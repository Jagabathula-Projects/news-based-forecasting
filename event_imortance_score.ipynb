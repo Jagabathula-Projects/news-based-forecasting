{
 "cells": [
  {
   "cell_type": "code",
   "execution_count": null,
   "id": "f8842ab3",
   "metadata": {
    "id": "f8842ab3"
   },
   "outputs": [],
   "source": [
    "import os\n",
    "import numpy as np\n",
    "import pandas as pd\n",
    "import json\n",
    "import pickle as cp\n",
    "import matplotlib.pyplot as plt\n",
    "from pandas import read_csv\n",
    "from keras.models import Sequential\n",
    "from keras.layers import Dense\n",
    "from keras.layers import LSTM\n",
    "from keras.layers import Dropout\n",
    "from tensorflow import keras\n",
    "import tensorflow as tf\n",
    "from keras import backend as K\n",
    "import torch"
   ]
  },
  {
   "cell_type": "code",
   "execution_count": null,
   "id": "b60bf61d",
   "metadata": {
    "id": "b60bf61d"
   },
   "outputs": [],
   "source": [
    "def getScore(model,X):\n",
    "    input = tf.convert_to_tensor(X)\n",
    "    with tf.GradientTape() as tape:\n",
    "      tape.watch(input)\n",
    "      output = model(input)\n",
    "    gradients = np.absolute(tape.gradient(output, input))\n",
    "    init = 0\n",
    "    monthly_gradients = []\n",
    "    for days in mnth_days:\n",
    "        mgrad = gradients[init:init+days]\n",
    "        monthly_gradients.append(mgrad.sum(axis=1).sum(axis=0)/days)\n",
    "        init=init+days\n",
    "    monthly_gradients = np.array(monthly_gradients)\n",
    "\n",
    "    return monthly_gradients"
   ]
  },
  {
   "cell_type": "code",
   "execution_count": null,
   "id": "79470692",
   "metadata": {
    "id": "79470692"
   },
   "outputs": [],
   "source": [
    "def addSpanLag(data, events=[], look_back=7, look_ahead = 7, season=0,span=0):\n",
    "    ### Adding span (required for weekly, monthly average data)\n",
    "    if span>1:\n",
    "        nts = []\n",
    "        ind = 0\n",
    "        while ind < len(ts):\n",
    "            tmpts = ts[ind:ind+span]\n",
    "            print (tmpts)\n",
    "            dt = tmpts[0]\n",
    "            vals = [k for k in tmpts]\n",
    "            pr = sum(vals)/len(vals)\n",
    "            nts.append((dt,pr))\n",
    "            ind+=span\n",
    "        ts = nts\n",
    "\n",
    "\n",
    "    ### Adding lag (based on look back and look ahead)\n",
    "\n",
    "    if len(events) > 0:\n",
    "        input = np.append(data,events,axis=1)\n",
    "    else:\n",
    "        input = data\n",
    "    if season>0:\n",
    "        season = np.array([k%season for k in range(data.shape[0])])\n",
    "        season = season.reshape(len(season),1)\n",
    "        input = np.append(input,season,axis=1)\n",
    "\n",
    "\n",
    "    ind = 0\n",
    "    X_data = []\n",
    "    y_data = []\n",
    "\n",
    "    while ind + look_back + look_ahead < len(data):\n",
    "\n",
    "        X = input[ind:ind+look_back]\n",
    "        Y = data[ind+look_back+look_ahead]\n",
    "        X_data.append(X)\n",
    "        y_data.append(Y)\n",
    "        ind+=1\n",
    "    X_data = np.array(X_data)\n",
    "    y_data = np.array(y_data)\n",
    "\n",
    "    return X_data, y_data"
   ]
  },
  {
   "cell_type": "code",
   "execution_count": null,
   "id": "050bbf34",
   "metadata": {
    "id": "050bbf34"
   },
   "outputs": [],
   "source": [
    "crops = ['Onion','Potato','Rice','Wheat']\n",
    "path='/home/sunchak/projects/news_analytics/REN/'\n",
    "event_dict = {}\n",
    "for crop in crops:\n",
    "\n",
    "  model = keras.models.load_model(path+'onedayahead_logreturn/ren_'+crop)\n",
    "  mnth_days = [31,28,31,30,31,30,31,31,30,31,30,31]*3\n",
    "  fileformat = path+'food_price_data/%s.csv'\n",
    "  data = pd.read_csv(fileformat%(crop))\n",
    "  price = data['price']\n",
    "  dates = data['date']\n",
    "  #foodpriceDf = pd.Series(food_price,index=dates)\n",
    "  start_date = '2012-12-24'\n",
    "  end_date = '2015-12-31'\n",
    "  price.index = dates\n",
    "  range_price = price[start_date:end_date]\n",
    "\n",
    "  food_price = np.log(range_price).diff().dropna()\n",
    "  price_diff = np.array(food_price).reshape(food_price.shape[0],1)\n",
    "\n",
    "\n",
    "  train = np.load(path+'embeddings/events_train.npy')\n",
    "  test = np.load(path+'embeddings/events_test.npy')\n",
    "  events = np.append(train,test, axis=0)[2548:2548+1102]\n",
    "\n",
    "  X, y   = addSpanLag(price_diff,events,look_back=7,look_ahead=0,season=0)\n",
    "  gradients = getScore(model,X)\n",
    "  #gradients.shape\n",
    "  evnt_grads = gradients[:,1:]\n",
    "  top1 = []\n",
    "  top10 = []\n",
    "  for k in range(36):\n",
    "    a = evnt_grads[k]\n",
    "    ind = np.argpartition(a, -10)[-10:]\n",
    "    top10.append(np.flip(ind))\n",
    "    top1.append(ind[-1])\n",
    "  event_dict[crop] = {}\n",
    "  for evnt in top1:\n",
    "    event_dict[crop][evnt] = evnt_grads[:,evnt]\n",
    "cp.dump(event_dict,open(os.path.join(path,'event importance','event_scores.dict'),'wb'))"
   ]
  },
  {
   "cell_type": "code",
   "execution_count": null,
   "id": "tjogECYR3IMc",
   "metadata": {
    "id": "tjogECYR3IMc"
   },
   "outputs": [],
   "source": []
  }
 ],
 "metadata": {
  "colab": {
   "provenance": []
  },
  "kernelspec": {
   "display_name": "Python 3 (ipykernel)",
   "language": "python",
   "name": "python3"
  },
  "language_info": {
   "codemirror_mode": {
    "name": "ipython",
    "version": 3
   },
   "file_extension": ".py",
   "mimetype": "text/x-python",
   "name": "python",
   "nbconvert_exporter": "python",
   "pygments_lexer": "ipython3",
   "version": "3.9.7"
  }
 },
 "nbformat": 4,
 "nbformat_minor": 5
}
