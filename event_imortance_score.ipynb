{
 "cells": [
  {
   "cell_type": "code",
   "execution_count": 1,
   "id": "ZAUtTY552jty",
   "metadata": {
    "colab": {
     "base_uri": "https://localhost:8080/"
    },
    "id": "ZAUtTY552jty",
    "outputId": "1fbbc4da-efbb-46bc-eca9-4c91e52bbb2f"
   },
   "outputs": [
    {
     "name": "stdout",
     "output_type": "stream",
     "text": [
      "Mounted at /content/gdrive\n"
     ]
    }
   ],
   "source": [
    "from google.colab import drive\n",
    "\n",
    "drive.mount('/content/gdrive')"
   ]
  },
  {
   "cell_type": "code",
   "execution_count": 2,
   "id": "f8842ab3",
   "metadata": {
    "id": "f8842ab3"
   },
   "outputs": [],
   "source": [
    "import os\n",
    "import numpy as np\n",
    "import pandas as pd\n",
    "import json\n",
    "import pickle as cp\n",
    "import matplotlib.pyplot as plt\n",
    "from pandas import read_csv\n",
    "from keras.models import Sequential\n",
    "from keras.layers import Dense\n",
    "from keras.layers import LSTM\n",
    "from keras.layers import Dropout\n",
    "from tensorflow import keras\n",
    "import tensorflow as tf\n",
    "from keras import backend as K\n",
    "import torch"
   ]
  },
  {
   "cell_type": "code",
   "execution_count": 2,
   "id": "E5EBnft3cfOh",
   "metadata": {
    "id": "E5EBnft3cfOh"
   },
   "outputs": [],
   "source": []
  },
  {
   "cell_type": "code",
   "execution_count": 3,
   "id": "b60bf61d",
   "metadata": {
    "id": "b60bf61d"
   },
   "outputs": [],
   "source": [
    "def getScore(model,X):\n",
    "    input = tf.convert_to_tensor(X)\n",
    "    with tf.GradientTape() as tape:\n",
    "      tape.watch(input)\n",
    "      output = model(input)\n",
    "    gradients = np.absolute(tape.gradient(output, input))\n",
    "\n",
    "    g = gradients.sum(axis=1)[:,1:]\n",
    "\n",
    "    init = 0\n",
    "    monthly_gradients = []\n",
    "    for days in mnth_days:\n",
    "        mgrad = gradients[init:init+days]\n",
    "        monthly_gradients.append(mgrad.sum(axis=1).sum(axis=0)/days)\n",
    "        init=init+days\n",
    "    monthly_gradients = np.array(monthly_gradients)\n",
    "\n",
    "    return gradients ### Returning the raw gradients instead of monthly aggregated values (temporary)"
   ]
  },
  {
   "cell_type": "code",
   "execution_count": 4,
   "id": "79470692",
   "metadata": {
    "id": "79470692"
   },
   "outputs": [],
   "source": [
    "def addSpanLag(data, events=[], look_back=7, look_ahead = 7, season=0,span=0):\n",
    "    ### Adding span (required for weekly, monthly average data)\n",
    "    if span>1:\n",
    "        nts = []\n",
    "        ind = 0\n",
    "        while ind < len(ts):\n",
    "            tmpts = ts[ind:ind+span]\n",
    "            print (tmpts)\n",
    "            dt = tmpts[0]\n",
    "            vals = [k for k in tmpts]\n",
    "            pr = sum(vals)/len(vals)\n",
    "            nts.append((dt,pr))\n",
    "            ind+=span\n",
    "        ts = nts\n",
    "\n",
    "\n",
    "    ### Adding lag (based on look back and look ahead)\n",
    "\n",
    "    if len(events) > 0:\n",
    "        input = np.append(data,events,axis=1)\n",
    "    else:\n",
    "        input = data\n",
    "    if season>0:\n",
    "        season = np.array([k%season for k in range(data.shape[0])])\n",
    "        season = season.reshape(len(season),1)\n",
    "        input = np.append(input,season,axis=1)\n",
    "\n",
    "\n",
    "    ind = 0\n",
    "    X_data = []\n",
    "    y_data = []\n",
    "\n",
    "    while ind + look_back + look_ahead < len(data):\n",
    "\n",
    "        X = input[ind:ind+look_back]\n",
    "        Y = data[ind+look_back+look_ahead]\n",
    "        X_data.append(X)\n",
    "        y_data.append(Y)\n",
    "        ind+=1\n",
    "    X_data = np.array(X_data)\n",
    "    y_data = np.array(y_data)\n",
    "\n",
    "    return X_data, y_data"
   ]
  },
  {
   "cell_type": "code",
   "execution_count": null,
   "id": "ajWlEtjfc1ec",
   "metadata": {
    "id": "ajWlEtjfc1ec"
   },
   "outputs": [],
   "source": []
  },
  {
   "cell_type": "code",
   "execution_count": 5,
   "id": "050bbf34",
   "metadata": {
    "id": "050bbf34"
   },
   "outputs": [],
   "source": [
    "#### TO run this block return monthly aggregated gradients from the getScore function\n",
    "\n",
    "crops = ['Onion','Potato','Rice','Wheat']\n",
    "path='/home/sunchak/projects/news_analytics/REN/'\n",
    "event_dict = {}\n",
    "for crop in crops:\n",
    "\n",
    "  model = keras.models.load_model(path+'onedayahead_logreturn/ren_'+crop)\n",
    "  mnth_days = [31,28,31,30,31,30,31,31,30,31,30,31]*3\n",
    "  fileformat = path+'food_price_data/%s.csv'\n",
    "  data = pd.read_csv(fileformat%(crop))\n",
    "  price = data['price']\n",
    "  dates = data['date']\n",
    "  #foodpriceDf = pd.Series(food_price,index=dates)\n",
    "  start_date = '2012-12-24'\n",
    "  end_date = '2015-12-31'\n",
    "  price.index = dates\n",
    "  range_price = price[start_date:end_date]\n",
    "\n",
    "  food_price = np.log(range_price).diff().dropna()\n",
    "  price_diff = np.array(food_price).reshape(food_price.shape[0],1)\n",
    "\n",
    "\n",
    "  train = np.load(path+'embeddings/events_train.npy')\n",
    "  test = np.load(path+'embeddings/events_test.npy')\n",
    "  events = np.append(train,test, axis=0)[2548:2548+1102]\n",
    "\n",
    "  X, y   = addSpanLag(price_diff,events,look_back=7,look_ahead=0,season=0)\n",
    "  gradients = getScore(model,X)\n",
    "  #gradients.shape\n",
    "  evnt_grads = gradients[:,1:]\n",
    "  top1 = []\n",
    "  top10 = []\n",
    "  for k in range(36):\n",
    "    a = evnt_grads[k]\n",
    "    ind = np.argpartition(a, -10)[-10:]\n",
    "    top10.append(np.flip(ind))\n",
    "    top1.append(np.argmax(a))\n",
    "  event_dict[crop] = {}\n",
    "  for evnt in top1:\n",
    "    event_dict[crop][evnt] = evnt_grads[:,evnt]\n",
    "cp.dump(event_dict,open(os.path.join(path,'event importance','event_scores.dict'),'wb'))"
   ]
  },
  {
   "cell_type": "code",
   "execution_count": 52,
   "id": "zhMb3K6ICa0y",
   "metadata": {
    "colab": {
     "base_uri": "https://localhost:8080/"
    },
    "id": "zhMb3K6ICa0y",
    "outputId": "6b4c48ee-a877-4aff-9e8d-30b1afd3cfb4"
   },
   "outputs": [
    {
     "name": "stdout",
     "output_type": "stream",
     "text": [
      "Onion\n",
      "(31, 250)\n",
      "[0.01570053 0.01482384 0.01468655 0.02056872 0.01812815 0.01642361\n",
      " 0.0164947  0.01760472 0.01655908 0.01617377 0.01480369 0.01349703\n",
      " 0.0162228  0.01387695 0.01494383 0.01359611 0.01327919 0.01374925\n",
      " 0.01185074 0.0108838  0.01358006 0.01528514 0.01193547 0.01142083\n",
      " 0.01271103 0.01594691 0.01718018 0.01085398 0.01549435 0.01232106\n",
      " 0.01335017]\n"
     ]
    }
   ],
   "source": [
    "#### TO run this block return raw gradients from the getScore function. This block is computing the product of event values and gradients for each day jan 2013\n",
    "\n",
    "crops = ['Onion','Potato','Wheat','Rice']\n",
    "path='/home/sunchak/projects/news_analytics/REN/'\n",
    "crop = 'Onion'\n",
    "mnth_days = [31,28,31,30,31,30,31,31,30,31,30,31]*3\n",
    "fileformat = path+'food_price_data/%s.csv'\n",
    "for crop in crops:\n",
    "  print(crop)\n",
    "  model_path = 'onedayahead_logreturn/ren_'+crop\n",
    "  event_dict = {}\n",
    "\n",
    "  #if True:\n",
    "\n",
    "  model = keras.models.load_model(path+model_path)\n",
    "  \n",
    "  data = pd.read_csv(fileformat%(crop))\n",
    "  price = data['price']\n",
    "  dates = data['date']\n",
    "  #foodpriceDf = pd.Series(food_price,index=dates)\n",
    "  start_date = '2012-12-25'\n",
    "  end_date = '2015-12-31'\n",
    "  price.index = dates\n",
    "  price = np.log(price).diff()[1:]\n",
    "  range_price = price[2548:2548+1102]#[start_date:end_date]\n",
    "\n",
    "\n",
    "  #food_price = np.log(range_price).diff()[1:]\n",
    "  price_diff = np.array(range_price).reshape(range_price.shape[0],1)\n",
    "\n",
    "\n",
    "  train = np.load(path+'embeddings/events_train.npy')\n",
    "  test = np.load(path+'embeddings/events_test.npy')\n",
    "  events = np.append(train,test, axis=0)[2549:2549+1102]\n",
    "\n",
    "\n",
    "\n",
    "  X, y   = addSpanLag(price_diff,events,look_back=7,look_ahead=0,season=0)\n",
    "  gradients = getScore(model,X)\n",
    "  gradients = gradients[:,:,1:]\n",
    "  events_lagged = X[:,:,1:]\n",
    "  #print(X.shape,events_lagged.shape)\n",
    "  #c=np.multiply(a[2557:,b)\n",
    "\n",
    "  st = 0\n",
    "  top_events = []\n",
    "  for i in range(36):\n",
    "    \n",
    "    end = st+mnth_days[i]\n",
    "    #print(st,end)\n",
    "    \n",
    "    c = np.multiply(gradients[st:end],events_lagged[st:end])\n",
    "    #print(c.shape)\n",
    "    c = (c.sum(axis=1).sum(axis=0)/30).reshape(c.shape[2],1)\n",
    "    \n",
    "    top = np.argmax(c)\n",
    "    topval = np.max(c,axis=1)\n",
    "    \n",
    "    #for i in range(end-st):\n",
    "    ind = np.argpartition(c, -10,axis=0)[-10:]\n",
    "    top10 = np.flip(ind).flatten()\n",
    "    #top10 = np.array(top10)\n",
    "    top_events+=list(top10  )\n",
    "    st = end\n",
    "  \n",
    "  top_events = set(top_events)\n",
    "\n",
    "  event_vals_months = []\n",
    "  st = 0\n",
    "  for i in range(36):\n",
    "    end = st+mnth_days[i]\n",
    "    #print(st,end)\n",
    "    \n",
    "    c = np.multiply(gradients[st:end],events_lagged[st:end])\n",
    "    #print(c.shape)\n",
    "    c = (c.sum(axis=1).sum(axis=0)/30).reshape(c.shape[2],1)\n",
    "    event_vals = []\n",
    "    for k in top_events:\n",
    "      event_vals.append(c[k])\n",
    "    # mx = max(event_vals)\n",
    "    # mn = min(event_vals)\n",
    "    # event_vals=[(k-mn)/(mx-mn) for k in event_vals]\n",
    "    event_vals_months.append(event_vals)\n",
    "\n",
    "  event_vals_months = np.array(event_vals_months)\n",
    "  event_vals_months = event_vals_months.reshape(event_vals_months.shape[0],event_vals_months.shape[1]).T\n",
    "  print(event_vals_months.shape)\n",
    "\n",
    "\n",
    "  \n",
    "  fig, ax = plt.subplots()\n",
    "  im = ax.imshow(event_vals_months,cmap=plt.colormaps[\"Reds\"])\n",
    "  \n",
    "  \n"
   ]
  },
  {
   "cell_type": "code",
   "execution_count": 54,
   "id": "H80lQsarmpwf",
   "metadata": {
    "id": "H80lQsarmpwf"
   },
   "outputs": [],
   "source": []
  },
  {
   "cell_type": "code",
   "execution_count": 55,
   "id": "q7dZpkHkyani",
   "metadata": {
    "id": "q7dZpkHkyani"
   },
   "outputs": [],
   "source": []
  },
  {
   "cell_type": "code",
   "execution_count": null,
   "id": "j91lixykzrXd",
   "metadata": {
    "id": "j91lixykzrXd"
   },
   "outputs": [],
   "source": []
  }
 ],
 "metadata": {
  "colab": {
   "provenance": []
  },
  "kernelspec": {
   "display_name": "Python 3 (ipykernel)",
   "language": "python",
   "name": "python3"
  },
  "language_info": {
   "codemirror_mode": {
    "name": "ipython",
    "version": 3
   },
   "file_extension": ".py",
   "mimetype": "text/x-python",
   "name": "python",
   "nbconvert_exporter": "python",
   "pygments_lexer": "ipython3",
   "version": "3.9.7"
  }
 },
 "nbformat": 4,
 "nbformat_minor": 5
}
