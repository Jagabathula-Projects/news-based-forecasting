{
  "cells": [
    {
      "cell_type": "code",
      "source": [
        "from google.colab import drive\n",
        "\n",
        "drive.mount('/content/gdrive')"
      ],
      "metadata": {
        "colab": {
          "base_uri": "https://localhost:8080/"
        },
        "id": "ZAUtTY552jty",
        "outputId": "ba74b75e-9b42-4120-8f0b-e1d77bfe4a07"
      },
      "id": "ZAUtTY552jty",
      "execution_count": 150,
      "outputs": [
        {
          "output_type": "stream",
          "name": "stdout",
          "text": [
            "Drive already mounted at /content/gdrive; to attempt to forcibly remount, call drive.mount(\"/content/gdrive\", force_remount=True).\n"
          ]
        }
      ]
    },
    {
      "cell_type": "code",
      "execution_count": 151,
      "id": "f8842ab3",
      "metadata": {
        "id": "f8842ab3"
      },
      "outputs": [],
      "source": [
        "import os\n",
        "import numpy as np\n",
        "import pandas as pd\n",
        "import json\n",
        "import pickle as cp\n",
        "import matplotlib.pyplot as plt\n",
        "from pandas import read_csv\n",
        "from keras.models import Sequential\n",
        "from keras.layers import Dense\n",
        "from keras.layers import LSTM\n",
        "from keras.layers import Dropout\n",
        "from tensorflow import keras\n",
        "import tensorflow as tf\n",
        "from keras import backend as K\n",
        "import torch"
      ]
    },
    {
      "cell_type": "code",
      "source": [],
      "metadata": {
        "id": "E5EBnft3cfOh"
      },
      "id": "E5EBnft3cfOh",
      "execution_count": 3,
      "outputs": []
    },
    {
      "cell_type": "code",
      "execution_count": 152,
      "id": "b60bf61d",
      "metadata": {
        "id": "b60bf61d"
      },
      "outputs": [],
      "source": [
        "def getScore(model,X):\n",
        "    input = tf.convert_to_tensor(X)\n",
        "    with tf.GradientTape() as tape:\n",
        "      tape.watch(input)\n",
        "      output = model(input)\n",
        "    gradients = np.absolute(tape.gradient(output, input))\n",
        "\n",
        "    g = gradients.sum(axis=1)[:,1:]\n",
        "\n",
        "    init = 0\n",
        "    monthly_gradients = []\n",
        "    for days in mnth_days:\n",
        "        mgrad = gradients[init:init+days]\n",
        "        monthly_gradients.append(mgrad.sum(axis=1).sum(axis=0)/days)\n",
        "        init=init+days\n",
        "    monthly_gradients = np.array(monthly_gradients)\n",
        "\n",
        "    return gradients ### Returning the raw gradients instead of monthly aggregated values (temporary)"
      ]
    },
    {
      "cell_type": "code",
      "execution_count": 153,
      "id": "79470692",
      "metadata": {
        "id": "79470692"
      },
      "outputs": [],
      "source": [
        "def addSpanLag(data, events=[], look_back=7, look_ahead = 7, season=0,span=0):\n",
        "    ### Adding span (required for weekly, monthly average data)\n",
        "    if span>1:\n",
        "        nts = []\n",
        "        ind = 0\n",
        "        while ind < len(ts):\n",
        "            tmpts = ts[ind:ind+span]\n",
        "            print (tmpts)\n",
        "            dt = tmpts[0]\n",
        "            vals = [k for k in tmpts]\n",
        "            pr = sum(vals)/len(vals)\n",
        "            nts.append((dt,pr))\n",
        "            ind+=span\n",
        "        ts = nts\n",
        "\n",
        "\n",
        "    ### Adding lag (based on look back and look ahead)\n",
        "\n",
        "    if len(events) > 0:\n",
        "        input = np.append(data,events,axis=1)\n",
        "    else:\n",
        "        input = data\n",
        "    if season>0:\n",
        "        season = np.array([k%season for k in range(data.shape[0])])\n",
        "        season = season.reshape(len(season),1)\n",
        "        input = np.append(input,season,axis=1)\n",
        "\n",
        "\n",
        "    ind = 0\n",
        "    X_data = []\n",
        "    y_data = []\n",
        "\n",
        "    while ind + look_back + look_ahead < len(data):\n",
        "\n",
        "        X = input[ind:ind+look_back]\n",
        "        Y = data[ind+look_back+look_ahead]\n",
        "        X_data.append(X)\n",
        "        y_data.append(Y)\n",
        "        ind+=1\n",
        "    X_data = np.array(X_data)\n",
        "    y_data = np.array(y_data)\n",
        "\n",
        "    return X_data, y_data"
      ]
    },
    {
      "cell_type": "code",
      "source": [],
      "metadata": {
        "id": "ajWlEtjfc1ec"
      },
      "id": "ajWlEtjfc1ec",
      "execution_count": null,
      "outputs": []
    },
    {
      "cell_type": "code",
      "execution_count": 5,
      "id": "050bbf34",
      "metadata": {
        "id": "050bbf34"
      },
      "outputs": [],
      "source": [
        "#### TO run this block return monthly aggregated gradients from the getScore function\n",
        "\n",
        "crops = ['Onion','Potato','Rice','Wheat']\n",
        "path='/home/sunchak/projects/news_analytics/REN/'\n",
        "event_dict = {}\n",
        "for crop in crops:\n",
        "\n",
        "  model = keras.models.load_model(path+'onedayahead_logreturn/ren_'+crop)\n",
        "  mnth_days = [31,28,31,30,31,30,31,31,30,31,30,31]*3\n",
        "  fileformat = path+'food_price_data/%s.csv'\n",
        "  data = pd.read_csv(fileformat%(crop))\n",
        "  price = data['price']\n",
        "  dates = data['date']\n",
        "  #foodpriceDf = pd.Series(food_price,index=dates)\n",
        "  start_date = '2012-12-24'\n",
        "  end_date = '2015-12-31'\n",
        "  price.index = dates\n",
        "  range_price = price[start_date:end_date]\n",
        "\n",
        "  food_price = np.log(range_price).diff().dropna()\n",
        "  price_diff = np.array(food_price).reshape(food_price.shape[0],1)\n",
        "\n",
        "\n",
        "  train = np.load(path+'embeddings/events_train.npy')\n",
        "  test = np.load(path+'embeddings/events_test.npy')\n",
        "  events = np.append(train,test, axis=0)[2548:2548+1102]\n",
        "\n",
        "  X, y   = addSpanLag(price_diff,events,look_back=7,look_ahead=0,season=0)\n",
        "  gradients = getScore(model,X)\n",
        "  #gradients.shape\n",
        "  evnt_grads = gradients[:,1:]\n",
        "  top1 = []\n",
        "  top10 = []\n",
        "  for k in range(36):\n",
        "    a = evnt_grads[k]\n",
        "    ind = np.argpartition(a, -10)[-10:]\n",
        "    top10.append(np.flip(ind))\n",
        "    top1.append(np.argmax(a))\n",
        "  event_dict[crop] = {}\n",
        "  for evnt in top1:\n",
        "    event_dict[crop][evnt] = evnt_grads[:,evnt]\n",
        "cp.dump(event_dict,open(os.path.join(path,'event importance','event_scores.dict'),'wb'))"
      ]
    },
    {
      "cell_type": "code",
      "source": [
        "#### TO run this block return raw gradients from the getScore function. This block is computing the product of event values and gradients for each day jan 2013\n",
        "\n",
        "crops = ['Onion','Potato','Wheat','Rice']\n",
        "path='/content/gdrive/MyDrive/Colab Notebooks/REN/'\n",
        "crop = 'Onion'\n",
        "mnth_days = [31,28,31,30,31,30,31,31,30,31,30,31]*3\n",
        "fileformat = path+'food_price_data/%s.csv'\n",
        "for crop in crops:\n",
        "  print(crop)\n",
        "  model_path = 'onedayahead_logreturn/ren_'+crop\n",
        "  event_dict = {}\n",
        "\n",
        "  #if True:\n",
        "\n",
        "  model = keras.models.load_model(path+model_path)\n",
        "\n",
        "  data = pd.read_csv(fileformat%(crop))\n",
        "  price = data['price']\n",
        "  dates = data['date']\n",
        "  price_array = price.to_numpy()[2557:]\n",
        "  #foodpriceDf = pd.Series(food_price,index=dates)\n",
        "  start_date = '2012-12-25'\n",
        "  end_date = '2015-12-31'\n",
        "  price.index = dates\n",
        "  price = np.log(price).diff()[1:]\n",
        "  range_price = price[2548:2548+1102]#[start_date:end_date]\n",
        "\n",
        "\n",
        "  #food_price = np.log(range_price).diff()[1:]\n",
        "  price_diff = np.array(range_price).reshape(range_price.shape[0],1)\n",
        "\n",
        "\n",
        "  train = np.load(path+'embeddings/events_train.npy')\n",
        "  test = np.load(path+'embeddings/events_test.npy')\n",
        "  events = np.append(train,test, axis=0)[2549:2549+1102]\n",
        "\n",
        "\n",
        "\n",
        "  X, y   = addSpanLag(price_diff,events,look_back=7,look_ahead=0,season=0)\n",
        "  gradients = getScore(model,X)\n",
        "  gradients = gradients[:,:,1:]\n",
        "  events_lagged = X[:,:,1:]\n",
        "  #print(X.shape,events_lagged.shape)\n",
        "  #c=np.multiply(a[2557:,b)\n",
        "\n",
        "  st = 0\n",
        "  top_events = []\n",
        "  eind = 111\n",
        "  for i in range(36):\n",
        "\n",
        "    end = st+mnth_days[i]\n",
        "    #print(st,end)\n",
        "\n",
        "    #c = np.multiply(gradients[st:end],price_array[st:end,np.newaxis,np.newaxis])\n",
        "    c = gradients.sum(axis=1)[st:end,:]*price_array[st:end].reshape(end-st,1)\n",
        "    #print(c.shape)\n",
        "\n",
        "    #c = c.sum(axis=1).sum(axis=0)/(end-st)\n",
        "    #print(c)\n",
        "    top = np.argmax(c)\n",
        "    #topval = np.max(c,axis=1)\n",
        "    #print(events_lagged[st:end,-1,eind])\n",
        "    #print(gradients[st:end,-1,eind])\n",
        "\n",
        "    #for i in range(end-st):\n",
        "    ind = np.argpartition(c, -10,axis=0)[-10:]\n",
        "    top10 = np.flip(ind).flatten()\n",
        "    #top10 = np.array(top10)\n",
        "    print(top)\n",
        "    top_events+=list(top  )\n",
        "    st = end\n",
        "\n",
        "\n",
        "  top_events = set(top_events)\n",
        "  print(top_events)\n",
        "  break\n",
        "  event_vals_months = []\n",
        "  st = 0\n",
        "  for i in range(36):\n",
        "    end = st+mnth_days[i]\n",
        "    #print(st,end)\n",
        "\n",
        "    c = gradients.sum(axis=1)[st:end,:]*price_array[st:end].reshape(end-st,1)\n",
        "    #print(c.shape)\n",
        "\n",
        "    event_vals = []\n",
        "    for k in top_events:\n",
        "      event_vals.append(c[k])\n",
        "    # mx = max(event_vals)\n",
        "    # mn = min(event_vals)\n",
        "    # event_vals=[(k-mn)/(mx-mn) for k in event_vals]\n",
        "    event_vals_months.append(event_vals)\n",
        "\n",
        "  event_vals_months = np.array(event_vals_months)\n",
        "  event_vals_months = event_vals_months.reshape(event_vals_months.shape[0],event_vals_months.shape[1]).T\n",
        "  print(event_vals_months.shape)\n",
        "\n",
        "\n",
        "\n",
        "  fig, ax = plt.subplots()\n",
        "  im = ax.imshow(event_vals_months,cmap=plt.colormaps[\"Reds\"])\n",
        "  break\n",
        "\n"
      ],
      "metadata": {
        "id": "zhMb3K6ICa0y"
      },
      "id": "zhMb3K6ICa0y",
      "execution_count": 162,
      "outputs": []
    },
    {
      "cell_type": "code",
      "source": [
        "event_codes = cp.load(open(path+'event importance/event_codes.dict','rb'))\n"
      ],
      "metadata": {
        "id": "NTHANXJ3lL_3"
      },
      "id": "NTHANXJ3lL_3",
      "execution_count": 157,
      "outputs": []
    },
    {
      "cell_type": "code",
      "source": [
        "crops = ['Onion','Potato','Wheat','Rice']\n",
        "path='/content/gdrive/MyDrive/Colab Notebooks/REN/'\n",
        "mnth_days = [31,28,31,30,31,30,31,31,30,31,30,31]*3\n",
        "num_top = 5\n",
        "shap = True\n",
        "event_codes = cp.load(open(path+'event importance/event_codes.dict','rb'))\n",
        "\n",
        "for crop in crops:\n",
        "  event_dict = {}\n",
        "  #if True:\n",
        "  model = keras.models.load_model(path+'onedayahead_logreturn/ren_'+crop)\n",
        "  fileformat = path+'food_price_data/%s.csv'\n",
        "  data = pd.read_csv(fileformat%(crop))\n",
        "  price = data['price']\n",
        "  dates = data['date']\n",
        "  #foodpriceDf = pd.Series(food_price,index=dates)\n",
        "  start_date = '2012-12-25'\n",
        "  end_date = '2015-12-31'\n",
        "  price.index = dates\n",
        "  price = np.log(price).diff()[1:]\n",
        "  range_price = price[2548:2548+1102]#[start_date:end_date]\n",
        "  #food_price = np.log(range_price).diff()[1:]\n",
        "  price_diff = np.array(range_price).reshape(range_price.shape[0],1)\n",
        "  train = np.load(path+'embeddings/events_train.npy')\n",
        "  test = np.load(path+'embeddings/events_test.npy')\n",
        "  events = np.append(train,test, axis=0)[2549:2549+1102]\n",
        "  mean_events = events.mean(axis=0)\n",
        "  #mean_events = np.zeros(250)\n",
        "  X, y   = addSpanLag(price_diff,events,look_back=7,look_ahead=0,season=0)\n",
        "  gradients = getScore(model,X)\n",
        "  gradients = gradients[:,:,1:]\n",
        "  events_lagged = np.abs(X[:,:,1:] - mean_events[np.newaxis, np.newaxis, :])\n",
        "  #print(X.shape,events_lagged.shape)\n",
        "  #c=np.multiply(a[2557:,b)\n",
        "\n",
        "  st = 0\n",
        "  top_events = []\n",
        "  for i in range(36):\n",
        "    end = st+mnth_days[i]\n",
        "    #print(st,end)\n",
        "    c = np.multiply(gradients[st:end],events_lagged[st:end]) if shap else gradients[st:end]\n",
        "    #c = c[:, [-1], :]\n",
        "    # print(c.shape)\n",
        "    c = (c.sum(axis=1).sum(axis=0)/mnth_days[i]).reshape(c.shape[2],1)\n",
        "    top = np.argmax(c)\n",
        "    topval = np.max(c,axis=1)\n",
        "    #print(c.flatten())\n",
        "    top_argsort = np.argsort(-c.flatten())[:num_top]\n",
        "    # print(i, top, c.flatten()[top], c[:10])\n",
        "    #print(top10_argsort, c.flatten()[top10_argsort])\n",
        "    #for i in range(end-st):\n",
        "    #ind = np.argpartition(c, -10,axis=0)[-10:]\n",
        "    #top10 = np.flip(ind).flatten()\n",
        "    #top10 = np.array(top10)\n",
        "    top_events += list(top_argsort)\n",
        "    st = end\n",
        "\n",
        "  top_events = list(set(top_events))\n",
        "  print(f'Top events for {crop} = {top_events}')\n",
        "  # top_events = [1, 232, 149]\n",
        "  event_vals_months = []\n",
        "  st = 0\n",
        "  for i in range(36):\n",
        "    end = st+mnth_days[i]\n",
        "    #print(st,end)\n",
        "    c = np.multiply(gradients[st:end],events_lagged[st:end]) if shap else gradients[st:end]\n",
        "    #c = c[:, [-1], :]\n",
        "    c = (c.sum(axis=1).sum(axis=0)/mnth_days[i]).reshape(c.shape[2],1)\n",
        "    top = np.argmax(c)\n",
        "    # print(i, top, c.flatten()[top], c[:10])\n",
        "    event_vals = []\n",
        "    for k in top_events:\n",
        "      #print(f'month {i}event{k} score {c[k]}')\n",
        "      event_vals.append(c[k][0])\n",
        "    mx = max(event_vals)\n",
        "    mn = min(event_vals)\n",
        "    # print(mx,mn)\n",
        "    event_vals=[(val-mn)/(mx-mn) for val in event_vals]\n",
        "    # print(event_vals)\n",
        "    event_vals_months.append(event_vals)\n",
        "    st = end\n",
        "\n",
        "  event_vals_months = np.array(event_vals_months).T\n",
        "  #print(f'event vals months = {event_vals_months}')\n",
        "  # event_vals_months = event_vals_months.reshape(event_vals_months.shape[0],event_vals_months.shape[1]).T\n",
        "  #print(event_vals_months.shape)\n",
        "  fig, ax = plt.subplots()\n",
        "  im = ax.imshow(event_vals_months,cmap=plt.colormaps[\"Reds\"])\n",
        "  top_event_names = [event_codes[ev] for ev in top_events]\n",
        "  ax.set_yticks(np.arange(len(top_events)), labels=top_event_names)"
      ],
      "metadata": {
        "colab": {
          "base_uri": "https://localhost:8080/",
          "height": 882
        },
        "id": "5cn4zZNU7VnJ",
        "outputId": "76b3c3ca-5b7f-431e-bb99-53f35123dff1"
      },
      "id": "5cn4zZNU7VnJ",
      "execution_count": 161,
      "outputs": [
        {
          "output_type": "stream",
          "name": "stdout",
          "text": [
            "Top events for Onion = [224, 1, 164, 38, 232, 206, 207, 178, 179, 149, 215]\n",
            "Top events for Potato = [224, 165, 231, 206, 207, 178, 179, 211, 245, 149, 215]\n",
            "Top events for Wheat = [1, 38, 232, 11, 206, 207, 178, 243, 245, 149, 215, 188]\n",
            "Top events for Rice = [224, 1, 38, 232, 206, 178, 243, 179, 245, 149, 215]\n"
          ]
        },
        {
          "output_type": "display_data",
          "data": {
            "text/plain": [
              "<Figure size 640x480 with 1 Axes>"
            ],
            "image/png": "[encoded data removed]"
          },
          "metadata": {}
        },
        {
          "output_type": "display_data",
          "data": {
            "text/plain": [
              "<Figure size 640x480 with 1 Axes>"
            ],
            "image/png": "[encoded data removed]"
          },
          "metadata": {}
        },
        {
          "output_type": "display_data",
          "data": {
            "text/plain": [
              "<Figure size 640x480 with 1 Axes>"
            ],
            "image/png": "[encoded data removed]"
          },
          "metadata": {}
        },
        {
          "output_type": "display_data",
          "data": {
            "text/plain": [
              "<Figure size 640x480 with 1 Axes>"
            ],
            "image/png": "[encoded data removed]"
          },
          "metadata": {}
        }
      ]
    },
    {
      "cell_type": "code",
      "source": [],
      "metadata": {
        "id": "qozBuwjLkrVd"
      },
      "id": "qozBuwjLkrVd",
      "execution_count": null,
      "outputs": []
    }
  ],
  "metadata": {
    "kernelspec": {
      "display_name": "Python 3 (ipykernel)",
      "language": "python",
      "name": "python3"
    },
    "language_info": {
      "codemirror_mode": {
        "name": "ipython",
        "version": 3
      },
      "file_extension": ".py",
      "mimetype": "text/x-python",
      "name": "python",
      "nbconvert_exporter": "python",
      "pygments_lexer": "ipython3",
      "version": "3.9.7"
    },
    "colab": {
      "provenance": []
    }
  },
  "nbformat": 4,
  "nbformat_minor": 5
}