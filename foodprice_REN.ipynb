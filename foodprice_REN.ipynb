{
 "cells": [
  {
   "cell_type": "code",
   "execution_count": 4,
   "metadata": {},
   "outputs": [],
   "source": [
    "from numpy.random import seed\n",
    "seed(1)\n",
    "import tensorflow\n",
    "tensorflow.random.set_seed(2)"
   ]
  },
  {
   "cell_type": "code",
   "execution_count": 5,
   "metadata": {
    "colab": {
     "base_uri": "https://localhost:8080/"
    },
    "executionInfo": {
     "elapsed": 28174,
     "status": "ok",
     "timestamp": 1694798194105,
     "user": {
      "displayName": "Lakshminarayanan Subramanian",
      "userId": "05209319424673529095"
     },
     "user_tz": 240
    },
    "id": "av8A69_jjKv6",
    "outputId": "d4f61290-0604-4853-c957-958e5e7d4dc6"
   },
   "outputs": [],
   "source": [
    "import sys\n",
    "import os\n",
    "from datetime import datetime\n",
    "import numpy as np\n",
    "import pandas as pd\n",
    "import json\n",
    "import numpy\n",
    "import matplotlib.pyplot as plt\n",
    "from pandas import read_csv\n",
    "import math\n",
    "from keras.models import Sequential\n",
    "from keras.layers import Dense\n",
    "from keras.layers import LSTM\n",
    "from keras.layers import Dropout\n",
    "from sklearn.preprocessing import MinMaxScaler\n",
    "from sklearn.metrics import mean_squared_error\n",
    "import pickle as cp\n",
    "from tensorflow import keras\n",
    "import tensorflow as tf\n",
    "from keras import backend as K\n",
    "import datetime as dt\n",
    "from tensorflow.keras.layers.experimental.preprocessing import Normalization\n",
    "from sklearn.preprocessing import MinMaxScaler, StandardScaler\n",
    "from sklearn.metrics import mean_squared_error"
   ]
  },
  {
   "cell_type": "markdown",
   "metadata": {},
   "source": [
    "###  Hyperparameters"
   ]
  },
  {
   "cell_type": "code",
   "execution_count": 7,
   "metadata": {
    "id": "2-hpirjye8Gl"
   },
   "outputs": [],
   "source": [
    "hidden_units = 100\n",
    "epochs = 100\n",
    "lookback = 7\n",
    "learning_rate = 0.001\n",
    "batch_size = 1024\n",
    "\n",
    "crops = ['Onion','Potato','Wheat','Rice']\n",
    "crop = crops[0]\n",
    "\n",
    "train_split = 2557 - 1 #if using price diff\n",
    "\n",
    "fileformat = 'food_price_data/%s.csv'"
   ]
  },
  {
   "cell_type": "markdown",
   "metadata": {},
   "source": [
    "### Data"
   ]
  },
  {
   "cell_type": "code",
   "execution_count": 8,
   "metadata": {},
   "outputs": [],
   "source": [
    "def toPDTimeSeries(crop,start,end):\n",
    "    startdate = dt.datetime.strptime(start, '%Y-%m-%d').date()\n",
    "    enddate = dt.datetime.strptime(end, '%Y-%m-%d').date()\n",
    "    data = pd.read_csv(fileformat%(crop))\n",
    "    print(data.head())\n",
    "    price = data['price']\n",
    "    dates = data['date']\n",
    "    \n",
    "    dateindex = pd.DatetimeIndex(dates)\n",
    "    print(dateindex[0]+31)\n",
    "    print (dateindex)\n",
    "    price_data = pd.Series(price)#, index=dates)#index)\n",
    "    return price_data[start:end]\n",
    "    "
   ]
  },
  {
   "cell_type": "code",
   "execution_count": 9,
   "metadata": {},
   "outputs": [],
   "source": [
    "def addSpanLag(data, events=[], look_back=7, look_ahead = 7):##span==1\n",
    "#     ### Adding span (required for weekly, monthly average data)\n",
    "#     if span>1:\n",
    "#         nts = []\n",
    "#         ind = 0\n",
    "#         while ind < len(ts):\n",
    "#             tmpts = ts[ind:ind+span]\n",
    "#             print (tmpts)\n",
    "#             dt = tmpts[0]\n",
    "#             vals = [k for k in tmpts]\n",
    "#             pr = sum(vals)/len(vals)\n",
    "#             nts.append((dt,pr))\n",
    "#             ind+=span\n",
    "#         ts = nts\n",
    "#     if not convert_to_Xy:\n",
    "#         return ts\n",
    "\n",
    "    ### Adding lag (based on look back and look ahead)\n",
    "    \n",
    "    if len(events) > 0:\n",
    "        input = np.append(data,events,axis=1)\n",
    "    else:\n",
    "        input = data\n",
    "    #     season = np.array([k%365 for k in range(train_split)])\n",
    "    #     season = season.reshape(len(season),1)\n",
    "    #     input = np.append(input,season,axis=1)\n",
    "    ind = 0\n",
    "    X_data = []\n",
    "    y_data = []\n",
    "\n",
    "    while ind + look_back + look_ahead < len(data):\n",
    "        \n",
    "        X = input[ind:ind+look_back]\n",
    "        Y = data[ind+look_back+look_ahead]\n",
    "        X_data.append(X)\n",
    "        y_data.append(Y)\n",
    "        ind+=1\n",
    "    X_data = np.array(X_data)\n",
    "    y_data = np.array(y_data)\n",
    "\n",
    "    return X_data, y_data"
   ]
  },
  {
   "cell_type": "markdown",
   "metadata": {},
   "source": [
    "#### Reading food prices"
   ]
  },
  {
   "cell_type": "code",
   "execution_count": 10,
   "metadata": {},
   "outputs": [],
   "source": [
    "food_price = pd.read_csv(fileformat%(crop))['price']\n",
    "food_price_diff = food_price.diff().dropna()"
   ]
  },
  {
   "cell_type": "markdown",
   "metadata": {},
   "source": [
    "#### Reading event embeddings"
   ]
  },
  {
   "cell_type": "code",
   "execution_count": 12,
   "metadata": {},
   "outputs": [],
   "source": [
    "events_train = np.load('embeddings/events_2006_2012.npy')"
   ]
  },
  {
   "cell_type": "code",
   "execution_count": null,
   "metadata": {},
   "outputs": [],
   "source": []
  },
  {
   "cell_type": "code",
   "execution_count": null,
   "metadata": {},
   "outputs": [],
   "source": []
  },
  {
   "cell_type": "markdown",
   "metadata": {},
   "source": [
    "#### Rearranging the data (Training)"
   ]
  },
  {
   "cell_type": "code",
   "execution_count": 13,
   "metadata": {},
   "outputs": [],
   "source": [
    "price_diff_train = np.array(food_price_diff[:train_split]).reshape(train_split,1)\n",
    "\n",
    "X_event_train, y_event_train    = addSpanLag(price_diff_train,events_train,look_back=7,look_ahead=0)\n",
    "X_noevent_train,y_noevent_train = addSpanLag(price_diff_train,look_back=7,look_ahead=0)"
   ]
  },
  {
   "cell_type": "code",
   "execution_count": null,
   "metadata": {},
   "outputs": [],
   "source": []
  },
  {
   "cell_type": "code",
   "execution_count": 65,
   "metadata": {},
   "outputs": [],
   "source": []
  },
  {
   "cell_type": "code",
   "execution_count": 14,
   "metadata": {
    "id": "mdPtPf0i5YSH"
   },
   "outputs": [],
   "source": [
    "def ren_train(X, y, hidden_units=100, learning_rate=0.01, epochs=200, batch_size=256):\n",
    "    model = Sequential()\n",
    "    model.add(LSTM(hidden_units, activation='relu', input_shape=(X.shape[1], X.shape[-1])))\n",
    "    model.add(Dense(1))\n",
    "    model.compile(optimizer='adam', loss='mse')\n",
    "    history = model.fit(X, y, epochs=epochs, verbose=1)\n",
    "    plt.plot(history.history['loss'])\n",
    "    plt.show()\n",
    "    return model"
   ]
  },
  {
   "cell_type": "code",
   "execution_count": null,
   "metadata": {},
   "outputs": [],
   "source": []
  },
  {
   "cell_type": "code",
   "execution_count": 47,
   "metadata": {},
   "outputs": [],
   "source": []
  },
  {
   "cell_type": "code",
   "execution_count": 55,
   "metadata": {},
   "outputs": [
    {
     "name": "stdout",
     "output_type": "stream",
     "text": [
      "Epoch 1/100\n",
      "80/80 [==============================] - 1s 4ms/step - loss: 1366.6580\n",
      "Epoch 2/100\n",
      "80/80 [==============================] - 0s 4ms/step - loss: 1207.8881\n",
      "Epoch 3/100\n",
      "80/80 [==============================] - 0s 4ms/step - loss: 1117.3438\n",
      "Epoch 4/100\n",
      "80/80 [==============================] - 0s 4ms/step - loss: 1057.8916\n",
      "Epoch 5/100\n",
      "80/80 [==============================] - 0s 4ms/step - loss: 1025.9750\n",
      "Epoch 6/100\n",
      "80/80 [==============================] - 0s 4ms/step - loss: 964.2319\n",
      "Epoch 7/100\n",
      "80/80 [==============================] - 0s 4ms/step - loss: 884.6075\n",
      "Epoch 8/100\n",
      "80/80 [==============================] - 0s 4ms/step - loss: 828.4954\n",
      "Epoch 9/100\n",
      "80/80 [==============================] - 0s 4ms/step - loss: 794.4503\n",
      "Epoch 10/100\n",
      "80/80 [==============================] - 0s 4ms/step - loss: 785.2161\n",
      "Epoch 11/100\n",
      "80/80 [==============================] - 0s 4ms/step - loss: 823.6738\n",
      "Epoch 12/100\n",
      "80/80 [==============================] - 0s 4ms/step - loss: 716.0452\n",
      "Epoch 13/100\n",
      "80/80 [==============================] - 0s 4ms/step - loss: 688.4999\n",
      "Epoch 14/100\n",
      "80/80 [==============================] - 0s 4ms/step - loss: 656.0535\n",
      "Epoch 15/100\n",
      "80/80 [==============================] - 0s 4ms/step - loss: 619.8866\n",
      "Epoch 16/100\n",
      "80/80 [==============================] - 0s 5ms/step - loss: 575.7741\n",
      "Epoch 17/100\n",
      "80/80 [==============================] - 0s 3ms/step - loss: 552.5784\n",
      "Epoch 18/100\n",
      "80/80 [==============================] - 0s 4ms/step - loss: 529.6442\n",
      "Epoch 19/100\n",
      "80/80 [==============================] - 0s 4ms/step - loss: 497.6679\n",
      "Epoch 20/100\n",
      "80/80 [==============================] - 0s 4ms/step - loss: 443.8330\n",
      "Epoch 21/100\n",
      "80/80 [==============================] - 0s 4ms/step - loss: 417.9066\n",
      "Epoch 22/100\n",
      "80/80 [==============================] - 0s 6ms/step - loss: 382.6825\n",
      "Epoch 23/100\n",
      "80/80 [==============================] - 0s 5ms/step - loss: 433.3220\n",
      "Epoch 24/100\n",
      "80/80 [==============================] - 0s 4ms/step - loss: 402.8855\n",
      "Epoch 25/100\n",
      "80/80 [==============================] - 0s 4ms/step - loss: 427.7769\n",
      "Epoch 26/100\n",
      "80/80 [==============================] - 0s 4ms/step - loss: 374.5654\n",
      "Epoch 27/100\n",
      "80/80 [==============================] - 0s 4ms/step - loss: 324.5638\n",
      "Epoch 28/100\n",
      "80/80 [==============================] - 0s 4ms/step - loss: 302.7262\n",
      "Epoch 29/100\n",
      "80/80 [==============================] - 0s 4ms/step - loss: 280.9079\n",
      "Epoch 30/100\n",
      "80/80 [==============================] - 0s 5ms/step - loss: 252.1710\n",
      "Epoch 31/100\n",
      "80/80 [==============================] - 0s 5ms/step - loss: 238.6155\n",
      "Epoch 32/100\n",
      "80/80 [==============================] - 0s 5ms/step - loss: 311.9934\n",
      "Epoch 33/100\n",
      "80/80 [==============================] - 0s 5ms/step - loss: 242.6909\n",
      "Epoch 34/100\n",
      "80/80 [==============================] - 0s 4ms/step - loss: 242.0713\n",
      "Epoch 35/100\n",
      "80/80 [==============================] - 0s 5ms/step - loss: 219.3157\n",
      "Epoch 36/100\n",
      "80/80 [==============================] - 0s 5ms/step - loss: 220.0404\n",
      "Epoch 37/100\n",
      "80/80 [==============================] - 0s 4ms/step - loss: 197.9064\n",
      "Epoch 38/100\n",
      "80/80 [==============================] - 0s 6ms/step - loss: 233.7342\n",
      "Epoch 39/100\n",
      "80/80 [==============================] - 0s 3ms/step - loss: 192.0790\n",
      "Epoch 40/100\n",
      "80/80 [==============================] - 0s 3ms/step - loss: 188.0028\n",
      "Epoch 41/100\n",
      "80/80 [==============================] - 0s 3ms/step - loss: 219.8310\n",
      "Epoch 42/100\n",
      "80/80 [==============================] - 0s 5ms/step - loss: 169.8232\n",
      "Epoch 43/100\n",
      "80/80 [==============================] - 0s 4ms/step - loss: 155.4436\n",
      "Epoch 44/100\n",
      "80/80 [==============================] - 0s 3ms/step - loss: 132.7404\n",
      "Epoch 45/100\n",
      "80/80 [==============================] - 0s 4ms/step - loss: 111.2554\n",
      "Epoch 46/100\n",
      "80/80 [==============================] - 0s 5ms/step - loss: 97.7234\n",
      "Epoch 47/100\n",
      "80/80 [==============================] - 0s 5ms/step - loss: 93.2562\n",
      "Epoch 48/100\n",
      "80/80 [==============================] - 0s 5ms/step - loss: 88.1735\n",
      "Epoch 49/100\n",
      "80/80 [==============================] - 0s 5ms/step - loss: 89.2953\n",
      "Epoch 50/100\n",
      "80/80 [==============================] - 0s 5ms/step - loss: 92.5787\n",
      "Epoch 51/100\n",
      "80/80 [==============================] - 0s 6ms/step - loss: 96.7523\n",
      "Epoch 52/100\n",
      "80/80 [==============================] - 0s 5ms/step - loss: 104.4238\n",
      "Epoch 53/100\n",
      "80/80 [==============================] - 0s 5ms/step - loss: 80.6533\n",
      "Epoch 54/100\n",
      "80/80 [==============================] - 0s 4ms/step - loss: 79.4871\n",
      "Epoch 55/100\n",
      "80/80 [==============================] - 0s 4ms/step - loss: 72.9643\n",
      "Epoch 56/100\n",
      "80/80 [==============================] - 0s 5ms/step - loss: 93.3642\n",
      "Epoch 57/100\n",
      "80/80 [==============================] - 0s 5ms/step - loss: 79.1145\n",
      "Epoch 58/100\n",
      "80/80 [==============================] - 0s 5ms/step - loss: 75.7904\n",
      "Epoch 59/100\n",
      "80/80 [==============================] - 0s 5ms/step - loss: 68.9832\n",
      "Epoch 60/100\n",
      "80/80 [==============================] - 0s 5ms/step - loss: 67.6311\n",
      "Epoch 61/100\n",
      "80/80 [==============================] - 0s 5ms/step - loss: 53.5197\n",
      "Epoch 62/100\n",
      "80/80 [==============================] - 0s 4ms/step - loss: 52.9204\n",
      "Epoch 63/100\n",
      "80/80 [==============================] - 0s 5ms/step - loss: 49.4109\n",
      "Epoch 64/100\n",
      "80/80 [==============================] - 0s 5ms/step - loss: 45.7750\n",
      "Epoch 65/100\n",
      "80/80 [==============================] - 0s 5ms/step - loss: 79.3843\n",
      "Epoch 66/100\n",
      "80/80 [==============================] - 0s 4ms/step - loss: 81.1058\n",
      "Epoch 67/100\n",
      "80/80 [==============================] - 0s 5ms/step - loss: 72.0915\n",
      "Epoch 68/100\n",
      "80/80 [==============================] - 0s 5ms/step - loss: 73.0084\n",
      "Epoch 69/100\n",
      "80/80 [==============================] - 0s 5ms/step - loss: 78.4061\n",
      "Epoch 70/100\n",
      "80/80 [==============================] - 0s 5ms/step - loss: 75.6338\n",
      "Epoch 71/100\n",
      "80/80 [==============================] - 0s 5ms/step - loss: 107.6962\n",
      "Epoch 72/100\n",
      "80/80 [==============================] - 0s 5ms/step - loss: 89.8665\n",
      "Epoch 73/100\n",
      "80/80 [==============================] - 0s 4ms/step - loss: 66.6629\n",
      "Epoch 74/100\n",
      "80/80 [==============================] - 0s 5ms/step - loss: 56.4698\n",
      "Epoch 75/100\n",
      "80/80 [==============================] - 0s 6ms/step - loss: 46.9959\n",
      "Epoch 76/100\n",
      "80/80 [==============================] - 0s 5ms/step - loss: 42.9530\n",
      "Epoch 77/100\n",
      "80/80 [==============================] - 0s 5ms/step - loss: 34.5812\n",
      "Epoch 78/100\n",
      "80/80 [==============================] - 0s 5ms/step - loss: 32.7538\n",
      "Epoch 79/100\n",
      "80/80 [==============================] - 0s 5ms/step - loss: 28.5176\n",
      "Epoch 80/100\n",
      "80/80 [==============================] - 0s 4ms/step - loss: 27.4150\n",
      "Epoch 81/100\n",
      "80/80 [==============================] - 0s 5ms/step - loss: 24.7442\n",
      "Epoch 82/100\n",
      "80/80 [==============================] - 0s 5ms/step - loss: 29.4235\n",
      "Epoch 83/100\n",
      "80/80 [==============================] - 0s 5ms/step - loss: 28.8972\n",
      "Epoch 84/100\n",
      "80/80 [==============================] - 0s 5ms/step - loss: 24.9331\n",
      "Epoch 85/100\n",
      "80/80 [==============================] - 0s 5ms/step - loss: 29.8559\n",
      "Epoch 86/100\n",
      "80/80 [==============================] - 0s 5ms/step - loss: 28.1349\n",
      "Epoch 87/100\n",
      "80/80 [==============================] - 0s 5ms/step - loss: 28.5300\n",
      "Epoch 88/100\n",
      "80/80 [==============================] - 0s 5ms/step - loss: 33.2016\n",
      "Epoch 89/100\n",
      "80/80 [==============================] - 0s 5ms/step - loss: 30.5707\n",
      "Epoch 90/100\n",
      "80/80 [==============================] - 0s 5ms/step - loss: 102.9411\n",
      "Epoch 91/100\n",
      "80/80 [==============================] - 0s 5ms/step - loss: 148.8049\n",
      "Epoch 92/100\n",
      "80/80 [==============================] - 0s 5ms/step - loss: 125.5935\n",
      "Epoch 93/100\n",
      "80/80 [==============================] - 0s 5ms/step - loss: 126.6278\n",
      "Epoch 94/100\n",
      "80/80 [==============================] - 0s 5ms/step - loss: 130.6536\n",
      "Epoch 95/100\n",
      "80/80 [==============================] - 0s 5ms/step - loss: 113.9462\n",
      "Epoch 96/100\n",
      "80/80 [==============================] - 0s 4ms/step - loss: 159.9588\n",
      "Epoch 97/100\n",
      "80/80 [==============================] - 0s 5ms/step - loss: 144.2969\n",
      "Epoch 98/100\n",
      "80/80 [==============================] - 0s 5ms/step - loss: 93.5442\n",
      "Epoch 99/100\n",
      "80/80 [==============================] - 0s 5ms/step - loss: 62.4746\n",
      "Epoch 100/100\n",
      "80/80 [==============================] - 0s 5ms/step - loss: 46.8881\n"
     ]
    },
    {
     "data": {
      "image/png": "[encoded data removed]",
      "text/plain": [
       "<Figure size 432x288 with 1 Axes>"
      ]
     },
     "metadata": {
      "needs_background": "light"
     },
     "output_type": "display_data"
    }
   ],
   "source": [
    "model_noevent = ren_train(X_noevent_train,y_noevent_train,hidden_units=hidden_units,learning_rate=learning_rate,epochs=epochs)\n"
   ]
  },
  {
   "cell_type": "code",
   "execution_count": 2,
   "metadata": {},
   "outputs": [],
   "source": [
    "model_noevent.save('models/rnn')"
   ]
  },
  {
   "cell_type": "code",
   "execution_count": 105,
   "metadata": {},
   "outputs": [],
   "source": []
  },
  {
   "cell_type": "markdown",
   "metadata": {},
   "source": [
    "### Testing"
   ]
  },
  {
   "cell_type": "markdown",
   "metadata": {},
   "source": [
    "#### Reading and rearranging test data\n",
    "\n"
   ]
  },
  {
   "cell_type": "code",
   "execution_count": 17,
   "metadata": {},
   "outputs": [],
   "source": [
    "test_price_diff = food_price_diff[train_split:]\n",
    "test_price_diff = np.array(test_price_diff).reshape(test_price_diff.shape[0],1)\n",
    "\n",
    "\n",
    "events_test = np.load('embeddings/events.npy')\n",
    "\n",
    "\n",
    "\n",
    "X_noevent_test, y_noevent_test = addSpanLag(test_price_diff,look_back=7,look_ahead=0)\n",
    "\n"
   ]
  },
  {
   "cell_type": "markdown",
   "metadata": {},
   "source": [
    "#### Computing model performance"
   ]
  },
  {
   "cell_type": "code",
   "execution_count": 20,
   "metadata": {},
   "outputs": [
    {
     "name": "stdout",
     "output_type": "stream",
     "text": [
      "80/80 [==============================] - 0s 2ms/step - loss: 28.3202\n",
      "23/23 [==============================] - 0s 2ms/step - loss: 5945.4756\n",
      "training accuracy: 5.322\n",
      "test accuracy: 77.107\n",
      "test accuracy 2013-14: 77.107\n"
     ]
    }
   ],
   "source": [
    "\n",
    "\n",
    "tr_acc = model_noevent.evaluate(X_noevent_train,y_noevent_train)\n",
    "tst_acc_13_14 = model_noevent.evaluate(X_noevent_test[:730],y_noevent_test[:730])\n",
    "yhat=model_noevent.predict(X_noevent_test[:730])\n",
    "tst_acc = mean_squared_error(yhat,y_noevent_test[:730],squared=False)\n",
    "print(\"training accuracy: %.3f\\ntest accuracy: %.3f\\ntest accuracy 2013-14: %.3f\"%(np.sqrt(tr_acc),tst_acc,np.sqrt(tst_acc_13_14)))\n"
   ]
  },
  {
   "cell_type": "code",
   "execution_count": null,
   "metadata": {},
   "outputs": [],
   "source": []
  }
 ],
 "metadata": {
  "accelerator": "GPU",
  "colab": {
   "authorship_tag": "ABX9TyP4Fh72a4Hm3abnJJgUwV9j",
   "gpuType": "A100",
   "machine_shape": "hm",
   "provenance": []
  },
  "kernelspec": {
   "display_name": "Python 3 (ipykernel)",
   "language": "python",
   "name": "python3"
  },
  "language_info": {
   "codemirror_mode": {
    "name": "ipython",
    "version": 3
   },
   "file_extension": ".py",
   "mimetype": "text/x-python",
   "name": "python",
   "nbconvert_exporter": "python",
   "pygments_lexer": "ipython3",
   "version": "3.9.7"
  }
 },
 "nbformat": 4,
 "nbformat_minor": 1
}
